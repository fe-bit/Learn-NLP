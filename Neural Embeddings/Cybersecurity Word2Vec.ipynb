{
 "cells": [
  {
   "cell_type": "code",
   "execution_count": 2,
   "id": "08b8eaea",
   "metadata": {},
   "outputs": [],
   "source": [
    "from gensim.models.keyedvectors import KeyedVectors\n",
    "word_vect = KeyedVectors.load_word2vec_format(\"vulner_embedding.bin\", binary=True)"
   ]
  },
  {
   "cell_type": "code",
   "execution_count": 3,
   "id": "e8cc075d",
   "metadata": {},
   "outputs": [
    {
     "name": "stdout",
     "output_type": "stream",
     "text": [
      "[('vulnerabilities', 0.8143215775489807), ('flaw', 0.7457947134971619), ('flaws', 0.7098128795623779), ('exploited', 0.6991013288497925), ('vulnerable', 0.6891142725944519)]\n",
      "[('fix', 0.6861200928688049), ('patched', 0.6833199858665466), ('patches', 0.6659087538719177), ('patching', 0.6549818515777588), ('fixes', 0.6477729082107544)]\n"
     ]
    }
   ],
   "source": [
    "words=['vulnerability','patch']\n",
    "for w in words:\n",
    "    try:\n",
    "        print(word_vect.most_similar(w)[:5])\n",
    "    except KeyError as e:\n",
    "            print(e)"
   ]
  },
  {
   "cell_type": "code",
   "execution_count": 4,
   "id": "93f83ccd",
   "metadata": {},
   "outputs": [
    {
     "name": "stdout",
     "output_type": "stream",
     "text": [
      "0.6351048\n"
     ]
    }
   ],
   "source": [
    "print(word_vect.similarity('bug', 'flaw'))"
   ]
  },
  {
   "cell_type": "code",
   "execution_count": 5,
   "id": "10fa8d39",
   "metadata": {},
   "outputs": [
    {
     "name": "stdout",
     "output_type": "stream",
     "text": [
      "python\n"
     ]
    }
   ],
   "source": [
    "print(word_vect.doesnt_match(\"exploit attack weakness python\".split()))"
   ]
  },
  {
   "cell_type": "code",
   "execution_count": 6,
   "id": "2fc28bfb",
   "metadata": {},
   "outputs": [
    {
     "name": "stdout",
     "output_type": "stream",
     "text": [
      "[('disaster', 0.5761128067970276), ('productivity', 0.5190401077270508), ('business', 0.5179399251937866), ('bcdr', 0.5158499479293823), ('advisors', 0.5081422328948975)]\n",
      "[('recovery', 0.6563922166824341), ('crisis', 0.6385223269462585), ('seriously', 0.6323146224021912), ('preparedness', 0.6295916438102722), ('breach', 0.6283054351806641)]\n"
     ]
    }
   ],
   "source": [
    "words=['continuity','disaster']\n",
    "for w in words:\n",
    "    try:\n",
    "        print(word_vect.most_similar(w)[:5])\n",
    "    except KeyError as e:\n",
    "            print(e)"
   ]
  },
  {
   "cell_type": "code",
   "execution_count": 7,
   "id": "4f8d35b8",
   "metadata": {},
   "outputs": [
    {
     "name": "stdout",
     "output_type": "stream",
     "text": [
      "0.5761128\n"
     ]
    }
   ],
   "source": [
    "print(word_vect.similarity('continuity', 'disaster'))"
   ]
  },
  {
   "cell_type": "code",
   "execution_count": 8,
   "id": "9c3639a1",
   "metadata": {},
   "outputs": [
    {
     "name": "stdout",
     "output_type": "stream",
     "text": [
      "awareness\n"
     ]
    }
   ],
   "source": [
    "print(word_vect.doesnt_match(\"backup awareness recovery disaster\".split()))"
   ]
  },
  {
   "cell_type": "code",
   "execution_count": 9,
   "id": "b9a4afaf",
   "metadata": {},
   "outputs": [
    {
     "name": "stdout",
     "output_type": "stream",
     "text": [
      "[('backups', 0.8373404145240784), ('restore', 0.7273116707801819), ('recovery', 0.7162773013114929), ('wipe', 0.6612573862075806), ('backed', 0.6579064726829529), ('disk', 0.654379665851593), ('drive', 0.6443359851837158), ('backed_up', 0.6409479379653931), ('files', 0.6395542621612549), ('incremential', 0.6286309361457825)]\n",
      "[('_verifying_', 0.7127201557159424), ('signing', 0.7040055394172668), ('verify', 0.698024570941925), ('validation', 0.6695701479911804), ('checking', 0.6637391448020935), ('verifying', 0.6581850647926331), ('authenticity', 0.6567460894584656), ('sign', 0.6558455228805542), ('signature', 0.6532610654830933), ('registration', 0.6399819850921631)]\n"
     ]
    }
   ],
   "source": [
    "words=['backup','verification']\n",
    "for w in words:\n",
    "    try:\n",
    "        print(word_vect.most_similar(w)[:10])\n",
    "    except KeyError as e:\n",
    "            print(e)"
   ]
  },
  {
   "cell_type": "code",
   "execution_count": 11,
   "id": "9f51de09",
   "metadata": {},
   "outputs": [
    {
     "name": "stdout",
     "output_type": "stream",
     "text": [
      "Norm of 'recovery': 3.3948240280151367\n",
      "Norm of 'disaster': 3.6445469856262207\n",
      "Cosine Similarity between 'recovery' and 'disaster': 0.6563921570777893\n"
     ]
    }
   ],
   "source": [
    "import numpy as np\n",
    "model = word_vect\n",
    "# Get word vectors\n",
    "word1 = \"recovery\"\n",
    "word2 = \"disaster\"\n",
    "word1_vector = model[word1]\n",
    "word2_vector = model[word2]\n",
    "\n",
    "# Calculate Norm using NumPy\n",
    "word1_norm = np.linalg.norm(word1_vector)\n",
    "word2_norm = np.linalg.norm(word2_vector)\n",
    "\n",
    "print(f\"Norm of '{word1}': {word1_norm}\")\n",
    "print(f\"Norm of '{word2}': {word2_norm}\")\n",
    "\n",
    "# Cosine Similarity\n",
    "similarity = model.similarity(word1, word2)\n",
    "\n",
    "print(f\"Cosine Similarity between '{word1}' and '{word2}': {similarity}\")"
   ]
  },
  {
   "cell_type": "code",
   "execution_count": null,
   "id": "8a42f72c-0ad8-4df9-8509-8fed93c69485",
   "metadata": {},
   "outputs": [],
   "source": []
  }
 ],
 "metadata": {
  "kernelspec": {
   "display_name": "Python 3 (ipykernel)",
   "language": "python",
   "name": "python3"
  },
  "language_info": {
   "codemirror_mode": {
    "name": "ipython",
    "version": 3
   },
   "file_extension": ".py",
   "mimetype": "text/x-python",
   "name": "python",
   "nbconvert_exporter": "python",
   "pygments_lexer": "ipython3",
   "version": "3.11.3"
  }
 },
 "nbformat": 4,
 "nbformat_minor": 5
}
