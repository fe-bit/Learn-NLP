{
 "cells": [
  {
   "cell_type": "code",
   "execution_count": null,
   "id": "edd98686-ba89-4c0d-969b-85fda2367b19",
   "metadata": {},
   "outputs": [],
   "source": []
  }
 ],
 "metadata": {
  "kernelspec": {
   "display_name": "",
   "name": ""
  },
  "language_info": {
   "name": ""
  }
 },
 "nbformat": 4,
 "nbformat_minor": 5
}
